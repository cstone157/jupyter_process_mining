{
 "cells": [
  {
   "cell_type": "code",
   "execution_count": null,
   "id": "18818080-b05e-4440-8fad-4ffa3d12742b",
   "metadata": {},
   "outputs": [],
   "source": [
    "!pip install pm4py"
   ]
  },
  {
   "cell_type": "code",
   "execution_count": 6,
   "id": "d435fee7-e0da-41e9-8f83-4a1b8915138d",
   "metadata": {},
   "outputs": [
    {
     "data": {
      "text/html": [
       "<div>\n",
       "<style scoped>\n",
       "    .dataframe tbody tr th:only-of-type {\n",
       "        vertical-align: middle;\n",
       "    }\n",
       "\n",
       "    .dataframe tbody tr th {\n",
       "        vertical-align: top;\n",
       "    }\n",
       "\n",
       "    .dataframe thead th {\n",
       "        text-align: right;\n",
       "    }\n",
       "</style>\n",
       "<table border=\"1\" class=\"dataframe\">\n",
       "  <thead>\n",
       "    <tr style=\"text-align: right;\">\n",
       "      <th></th>\n",
       "      <th>case_id</th>\n",
       "      <th>activity</th>\n",
       "      <th>timestamp</th>\n",
       "      <th>costs</th>\n",
       "      <th>org:resource</th>\n",
       "    </tr>\n",
       "  </thead>\n",
       "  <tbody>\n",
       "    <tr>\n",
       "      <th>0</th>\n",
       "      <td>3</td>\n",
       "      <td>register request</td>\n",
       "      <td>2010-12-30 14:32:00+01:00</td>\n",
       "      <td>50</td>\n",
       "      <td>Pete</td>\n",
       "    </tr>\n",
       "    <tr>\n",
       "      <th>1</th>\n",
       "      <td>3</td>\n",
       "      <td>examine casually</td>\n",
       "      <td>2010-12-30 15:06:00+01:00</td>\n",
       "      <td>400</td>\n",
       "      <td>Mike</td>\n",
       "    </tr>\n",
       "    <tr>\n",
       "      <th>2</th>\n",
       "      <td>3</td>\n",
       "      <td>check ticket</td>\n",
       "      <td>2010-12-30 16:34:00+01:00</td>\n",
       "      <td>100</td>\n",
       "      <td>Ellen</td>\n",
       "    </tr>\n",
       "    <tr>\n",
       "      <th>3</th>\n",
       "      <td>3</td>\n",
       "      <td>decide</td>\n",
       "      <td>2011-01-06 09:18:00+01:00</td>\n",
       "      <td>200</td>\n",
       "      <td>Sara</td>\n",
       "    </tr>\n",
       "    <tr>\n",
       "      <th>4</th>\n",
       "      <td>3</td>\n",
       "      <td>reinitiate request</td>\n",
       "      <td>2011-01-06 12:18:00+01:00</td>\n",
       "      <td>200</td>\n",
       "      <td>Sara</td>\n",
       "    </tr>\n",
       "  </tbody>\n",
       "</table>\n",
       "</div>"
      ],
      "text/plain": [
       "   case_id            activity                  timestamp  costs org:resource\n",
       "0        3    register request  2010-12-30 14:32:00+01:00     50         Pete\n",
       "1        3    examine casually  2010-12-30 15:06:00+01:00    400         Mike\n",
       "2        3        check ticket  2010-12-30 16:34:00+01:00    100        Ellen\n",
       "3        3              decide  2011-01-06 09:18:00+01:00    200         Sara\n",
       "4        3  reinitiate request  2011-01-06 12:18:00+01:00    200         Sara"
      ]
     },
     "execution_count": 6,
     "metadata": {},
     "output_type": "execute_result"
    }
   ],
   "source": [
    "import pandas as pd\n",
    "\n",
    "df = pd.read_csv('data/running_example.csv', sep=';')\n",
    "df.head()"
   ]
  },
  {
   "cell_type": "code",
   "execution_count": 7,
   "id": "7dee8466-d38f-465b-ae1b-90b23ee8c733",
   "metadata": {},
   "outputs": [
    {
     "data": {
      "text/plain": [
       "6"
      ]
     },
     "execution_count": 7,
     "metadata": {},
     "output_type": "execute_result"
    }
   ],
   "source": [
    "# number of cases\n",
    "len(df['case_id'].unique())"
   ]
  },
  {
   "cell_type": "code",
   "execution_count": 8,
   "id": "bc54bc8d-1852-4f32-bc03-9d692ab299c3",
   "metadata": {},
   "outputs": [
    {
     "data": {
      "text/plain": [
       "42"
      ]
     },
     "execution_count": 8,
     "metadata": {},
     "output_type": "execute_result"
    }
   ],
   "source": [
    "# number of events\n",
    "len(df)"
   ]
  },
  {
   "cell_type": "code",
   "execution_count": 10,
   "id": "12380f11-5f50-4bbb-8057-506bf8f5c0d5",
   "metadata": {},
   "outputs": [
    {
     "data": {
      "text/html": [
       "<div>\n",
       "<style scoped>\n",
       "    .dataframe tbody tr th:only-of-type {\n",
       "        vertical-align: middle;\n",
       "    }\n",
       "\n",
       "    .dataframe tbody tr th {\n",
       "        vertical-align: top;\n",
       "    }\n",
       "\n",
       "    .dataframe thead th {\n",
       "        text-align: right;\n",
       "    }\n",
       "</style>\n",
       "<table border=\"1\" class=\"dataframe\">\n",
       "  <thead>\n",
       "    <tr style=\"text-align: right;\">\n",
       "      <th></th>\n",
       "      <th>case_id</th>\n",
       "      <th>activity</th>\n",
       "      <th>timestamp</th>\n",
       "      <th>costs</th>\n",
       "      <th>org:resource</th>\n",
       "      <th>case:concept:name</th>\n",
       "      <th>concept:name</th>\n",
       "      <th>time:timestamp</th>\n",
       "      <th>@@index</th>\n",
       "      <th>@@case_index</th>\n",
       "    </tr>\n",
       "  </thead>\n",
       "  <tbody>\n",
       "    <tr>\n",
       "      <th>0</th>\n",
       "      <td>1</td>\n",
       "      <td>register request</td>\n",
       "      <td>2010-12-30 10:02:00+00:00</td>\n",
       "      <td>50</td>\n",
       "      <td>Pete</td>\n",
       "      <td>1</td>\n",
       "      <td>register request</td>\n",
       "      <td>2010-12-30 10:02:00+00:00</td>\n",
       "      <td>0</td>\n",
       "      <td>0</td>\n",
       "    </tr>\n",
       "    <tr>\n",
       "      <th>1</th>\n",
       "      <td>1</td>\n",
       "      <td>examine thoroughly</td>\n",
       "      <td>2010-12-31 09:06:00+00:00</td>\n",
       "      <td>400</td>\n",
       "      <td>Sue</td>\n",
       "      <td>1</td>\n",
       "      <td>examine thoroughly</td>\n",
       "      <td>2010-12-31 09:06:00+00:00</td>\n",
       "      <td>1</td>\n",
       "      <td>0</td>\n",
       "    </tr>\n",
       "    <tr>\n",
       "      <th>2</th>\n",
       "      <td>1</td>\n",
       "      <td>check ticket</td>\n",
       "      <td>2011-01-05 14:12:00+00:00</td>\n",
       "      <td>100</td>\n",
       "      <td>Mike</td>\n",
       "      <td>1</td>\n",
       "      <td>check ticket</td>\n",
       "      <td>2011-01-05 14:12:00+00:00</td>\n",
       "      <td>2</td>\n",
       "      <td>0</td>\n",
       "    </tr>\n",
       "    <tr>\n",
       "      <th>3</th>\n",
       "      <td>1</td>\n",
       "      <td>decide</td>\n",
       "      <td>2011-01-06 10:18:00+00:00</td>\n",
       "      <td>200</td>\n",
       "      <td>Sara</td>\n",
       "      <td>1</td>\n",
       "      <td>decide</td>\n",
       "      <td>2011-01-06 10:18:00+00:00</td>\n",
       "      <td>3</td>\n",
       "      <td>0</td>\n",
       "    </tr>\n",
       "    <tr>\n",
       "      <th>4</th>\n",
       "      <td>1</td>\n",
       "      <td>reject request</td>\n",
       "      <td>2011-01-07 13:24:00+00:00</td>\n",
       "      <td>200</td>\n",
       "      <td>Pete</td>\n",
       "      <td>1</td>\n",
       "      <td>reject request</td>\n",
       "      <td>2011-01-07 13:24:00+00:00</td>\n",
       "      <td>4</td>\n",
       "      <td>0</td>\n",
       "    </tr>\n",
       "  </tbody>\n",
       "</table>\n",
       "</div>"
      ],
      "text/plain": [
       "   case_id            activity                 timestamp  costs org:resource  \\\n",
       "0        1    register request 2010-12-30 10:02:00+00:00     50         Pete   \n",
       "1        1  examine thoroughly 2010-12-31 09:06:00+00:00    400          Sue   \n",
       "2        1        check ticket 2011-01-05 14:12:00+00:00    100         Mike   \n",
       "3        1              decide 2011-01-06 10:18:00+00:00    200         Sara   \n",
       "4        1      reject request 2011-01-07 13:24:00+00:00    200         Pete   \n",
       "\n",
       "  case:concept:name        concept:name            time:timestamp  @@index  \\\n",
       "0                 1    register request 2010-12-30 10:02:00+00:00        0   \n",
       "1                 1  examine thoroughly 2010-12-31 09:06:00+00:00        1   \n",
       "2                 1        check ticket 2011-01-05 14:12:00+00:00        2   \n",
       "3                 1              decide 2011-01-06 10:18:00+00:00        3   \n",
       "4                 1      reject request 2011-01-07 13:24:00+00:00        4   \n",
       "\n",
       "   @@case_index  \n",
       "0             0  \n",
       "1             0  \n",
       "2             0  \n",
       "3             0  \n",
       "4             0  "
      ]
     },
     "execution_count": 10,
     "metadata": {},
     "output_type": "execute_result"
    }
   ],
   "source": [
    "import pm4py\n",
    "log = pm4py.format_dataframe(df, case_id='case_id',activity_key='activity',\n",
    "                             timestamp_key='timestamp')\n",
    "log.head()"
   ]
  },
  {
   "cell_type": "code",
   "execution_count": 11,
   "id": "2bd70174-6926-4a64-a771-c277efed2ea3",
   "metadata": {},
   "outputs": [
    {
     "data": {
      "text/plain": [
       "{'register request': 6}"
      ]
     },
     "execution_count": 11,
     "metadata": {},
     "output_type": "execute_result"
    }
   ],
   "source": [
    "pm4py.get_start_activities(log)"
   ]
  },
  {
   "cell_type": "code",
   "execution_count": 12,
   "id": "2a8d32ae-f4d7-4392-b2ab-dff98d124f7d",
   "metadata": {},
   "outputs": [
    {
     "data": {
      "text/plain": [
       "{'reject request': 3, 'pay compensation': 3}"
      ]
     },
     "execution_count": 12,
     "metadata": {},
     "output_type": "execute_result"
    }
   ],
   "source": [
    "pm4py.get_end_activities(log)"
   ]
  },
  {
   "cell_type": "code",
   "execution_count": null,
   "id": "08e0590a-82ab-4de6-a582-d827dcd5d693",
   "metadata": {},
   "outputs": [],
   "source": []
  }
 ],
 "metadata": {
  "kernelspec": {
   "display_name": "Python 3 (ipykernel)",
   "language": "python",
   "name": "python3"
  },
  "language_info": {
   "codemirror_mode": {
    "name": "ipython",
    "version": 3
   },
   "file_extension": ".py",
   "mimetype": "text/x-python",
   "name": "python",
   "nbconvert_exporter": "python",
   "pygments_lexer": "ipython3",
   "version": "3.11.6"
  }
 },
 "nbformat": 4,
 "nbformat_minor": 5
}
