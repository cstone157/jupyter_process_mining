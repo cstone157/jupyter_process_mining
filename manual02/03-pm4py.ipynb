{
 "cells": [
  {
   "cell_type": "markdown",
   "id": "aff2fea3-3045-4533-a4b1-2cb99c7a7ae2",
   "metadata": {},
   "source": [
    "## Links\n",
    "\n",
    "#### - Event Logs : https://data.4tu.nl/search?searchscope=tag&search=%22event%20logs%22"
   ]
  },
  {
   "cell_type": "code",
   "execution_count": null,
   "id": "fb5d741d-4186-436e-91b2-8cc416af8d2a",
   "metadata": {},
   "outputs": [],
   "source": [
    "import numpy as np\n",
    "import pandas as pd\n",
    "\n",
    "http= \"https://data.4tu.nl/file/1c51b037-bf30-4c1a-9c50-25d1617a4899/65710417-8249-40db-a47a-dfa4d25bfad4\"\n",
    "df = pd.read_csv(http, sep=\";\", parse_dates=['TIMESTAMP'], encoding='cp1252', low_memory=False)\n",
    "print(df.columns)\n",
    "df.head()"
   ]
  },
  {
   "cell_type": "code",
   "execution_count": null,
   "id": "9e949f0a-7fd6-4d0e-be10-f9f20854bd77",
   "metadata": {},
   "outputs": [],
   "source": [
    "!pip install pm4py"
   ]
  },
  {
   "cell_type": "code",
   "execution_count": null,
   "id": "6d50dfc8-b8dc-458a-b524-20e4b15dcd63",
   "metadata": {},
   "outputs": [],
   "source": []
  }
 ],
 "metadata": {
  "kernelspec": {
   "display_name": "Python 3 (ipykernel)",
   "language": "python",
   "name": "python3"
  },
  "language_info": {
   "codemirror_mode": {
    "name": "ipython",
    "version": 3
   },
   "file_extension": ".py",
   "mimetype": "text/x-python",
   "name": "python",
   "nbconvert_exporter": "python",
   "pygments_lexer": "ipython3",
   "version": "3.11.6"
  }
 },
 "nbformat": 4,
 "nbformat_minor": 5
}
