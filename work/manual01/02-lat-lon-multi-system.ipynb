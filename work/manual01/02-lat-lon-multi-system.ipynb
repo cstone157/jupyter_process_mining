{
 "cells": [
  {
   "cell_type": "code",
   "execution_count": 1,
   "id": "722bae26-d135-48b0-bc17-16edb494bc9e",
   "metadata": {},
   "outputs": [
    {
     "ename": "ModuleNotFoundError",
     "evalue": "No module named 'numpy'",
     "output_type": "error",
     "traceback": [
      "\u001b[0;31m---------------------------------------------------------------------------\u001b[0m",
      "\u001b[0;31mModuleNotFoundError\u001b[0m                       Traceback (most recent call last)",
      "Cell \u001b[0;32mIn[1], line 1\u001b[0m\n\u001b[0;32m----> 1\u001b[0m \u001b[38;5;28;01mimport\u001b[39;00m \u001b[38;5;21;01mnumpy\u001b[39;00m \u001b[38;5;28;01mas\u001b[39;00m \u001b[38;5;21;01mnp\u001b[39;00m\n\u001b[1;32m      2\u001b[0m \u001b[38;5;28;01mimport\u001b[39;00m \u001b[38;5;21;01mpandas\u001b[39;00m \u001b[38;5;28;01mas\u001b[39;00m \u001b[38;5;21;01mpd\u001b[39;00m\n\u001b[1;32m      4\u001b[0m \u001b[38;5;28;01mimport\u001b[39;00m \u001b[38;5;21;01mnetworkx\u001b[39;00m \u001b[38;5;28;01mas\u001b[39;00m \u001b[38;5;21;01mnx\u001b[39;00m\n",
      "\u001b[0;31mModuleNotFoundError\u001b[0m: No module named 'numpy'"
     ]
    }
   ],
   "source": [
    "import numpy as np\n",
    "import pandas as pd\n",
    "\n",
    "import networkx as nx\n",
    "import matplotlib.pyplot as plt\n",
    "import seaborn as sns\n",
    "\n",
    "from itertools import product"
   ]
  },
  {
   "cell_type": "code",
   "execution_count": 2,
   "id": "308097b5-9fd8-4744-a819-2ed4b3e27d3e",
   "metadata": {},
   "outputs": [],
   "source": [
    "## =======================================================================\n",
    "## Trie node class, mostly used to track the path that the process takes\n",
    "## =======================================================================\n",
    "class TrieNode:\n",
    "    def __init__(self, keys, depth=0, parent=None):\n",
    "        ## Ensure that the keys that we have been given are actually a list\n",
    "        if type(keys) is list:\n",
    "            self.keys = keys\n",
    "        else:\n",
    "            self.keys = [keys]\n",
    "        self.parent = parent\n",
    "        ## Did we get a parent, update our depth then\n",
    "        if self.parent is not None:\n",
    "            self.depth = self.parent.depth + 1\n",
    "        else:\n",
    "            self.depth = depth\n",
    "\n",
    "        ## Initial a list of children\n",
    "        self.children = []\n",
    "        ## How many times was the noode, or it was a head/tail\n",
    "        self.count, self.head_count, self.tail_count = 1, 0, 0\n",
    "\n",
    "    def updateChlidren(self, keys):\n",
    "        for c in self.children:\n",
    "            if c.keys == keys:\n",
    "                return c\n",
    "\n",
    "        c = TrieNode(keys, parent=self)\n",
    "        self.children.append(c)\n",
    "        return c\n",
    "\n",
    "    def printTree(self, offset=0):\n",
    "        print(\"    \"*self.depth + f\" => ({self.depth}, {offset}) [ keys : {str(self.keys)} ]\")\n",
    "        child_offset = 0\n",
    "        for c in self.children:\n",
    "            c.printTree(child_offset)\n",
    "            child_offset += 1"
   ]
  },
  {
   "cell_type": "code",
   "execution_count": null,
   "id": "a183af02-79b7-4164-a6c8-3ddd3acd9715",
   "metadata": {},
   "outputs": [],
   "source": [
    "## =======================================================================\n",
    "## Trie to build process paths and allow us to calculate statistics using\n",
    "##     pandas dataframes.\n",
    "## =======================================================================\n",
    "class ProcessTrie:\n",
    "    def makeEmpthDict():\n",
    "        return {\n",
    "            \"entity\": [],\n",
    "            \"start_activity\": [],             \"stop_activity\": [],\n",
    "            \"start_timestamp\": [],            \"stop_timestamp\": [],\n",
    "            \"latitude1\": [],                    \"longitude1\": [],\n",
    "            \"latitude2\": [],                    \"longitude2\": [],\n",
    "            \"resuources\": []\n",
    "        }"
   ]
  }
 ],
 "metadata": {
  "kernelspec": {
   "display_name": "Python 3 (ipykernel)",
   "language": "python",
   "name": "python3"
  },
  "language_info": {
   "codemirror_mode": {
    "name": "ipython",
    "version": 3
   },
   "file_extension": ".py",
   "mimetype": "text/x-python",
   "name": "python",
   "nbconvert_exporter": "python",
   "pygments_lexer": "ipython3",
   "version": "3.11.6"
  }
 },
 "nbformat": 4,
 "nbformat_minor": 5
}
